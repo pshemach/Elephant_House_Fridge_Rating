{
 "cells": [
  {
   "cell_type": "code",
   "execution_count": 1,
   "metadata": {},
   "outputs": [],
   "source": [
    "from ultralytics import YOLO"
   ]
  },
  {
   "cell_type": "code",
   "execution_count": 3,
   "metadata": {},
   "outputs": [],
   "source": [
    "model = YOLO('my_model_2.pt')"
   ]
  },
  {
   "cell_type": "code",
   "execution_count": 37,
   "metadata": {},
   "outputs": [
    {
     "name": "stderr",
     "output_type": "stream",
     "text": [
      "\n",
      "image 1/1 c:\\Users\\PC\\Desktop\\test\\Elephant_House_Fridge_Rating\\research\\..\\data\\rated_1.jpg: 640x288 33 elephant-products, 1 fridge, 647.6ms\n",
      "Speed: 3.0ms preprocess, 647.6ms inference, 91.9ms postprocess per image at shape (1, 3, 640, 288)\n"
     ]
    }
   ],
   "source": [
    "results = model.predict('../data/rated_1.jpg')"
   ]
  },
  {
   "cell_type": "code",
   "execution_count": 38,
   "metadata": {},
   "outputs": [],
   "source": [
    "mask = results[0].masks"
   ]
  },
  {
   "cell_type": "code",
   "execution_count": 40,
   "metadata": {},
   "outputs": [],
   "source": [
    "detected_classes = []\n",
    "for result in results:\n",
    "    # Check if there are any detected boxes\n",
    "    if result.boxes is not None:\n",
    "        for box in result.boxes:\n",
    "            # Get the class index\n",
    "            class_idx = int(box.cls)\n",
    "            # Map the class index to the class name\n",
    "            class_name = result.names[class_idx]\n",
    "            detected_classes.append(class_name)"
   ]
  },
  {
   "cell_type": "code",
   "execution_count": 45,
   "metadata": {},
   "outputs": [
    {
     "data": {
      "text/plain": [
       "{'elephant-product', 'fridge'}"
      ]
     },
     "execution_count": 45,
     "metadata": {},
     "output_type": "execute_result"
    }
   ],
   "source": [
    "set(detected_classes)"
   ]
  },
  {
   "cell_type": "code",
   "execution_count": 46,
   "metadata": {},
   "outputs": [
    {
     "data": {
      "text/plain": [
       "[ultralytics.engine.results.Results object with attributes:\n",
       " \n",
       " boxes: ultralytics.engine.results.Boxes object\n",
       " keypoints: None\n",
       " masks: ultralytics.engine.results.Masks object\n",
       " names: {0: 'elephant-product', 1: 'fridge', 2: 'other'}\n",
       " orig_img: array([[[117, 136, 133],\n",
       "         [123, 142, 139],\n",
       "         [130, 149, 146],\n",
       "         ...,\n",
       "         [133, 153, 158],\n",
       "         [131, 151, 156],\n",
       "         [132, 151, 154]],\n",
       " \n",
       "        [[125, 144, 141],\n",
       "         [128, 147, 144],\n",
       "         [133, 152, 149],\n",
       "         ...,\n",
       "         [133, 153, 158],\n",
       "         [131, 151, 156],\n",
       "         [131, 150, 153]],\n",
       " \n",
       "        [[135, 154, 151],\n",
       "         [136, 155, 152],\n",
       "         [137, 156, 153],\n",
       "         ...,\n",
       "         [132, 153, 155],\n",
       "         [131, 152, 154],\n",
       "         [131, 150, 153]],\n",
       " \n",
       "        ...,\n",
       " \n",
       "        [[ 32,  46,  44],\n",
       "         [ 31,  45,  43],\n",
       "         [ 31,  44,  42],\n",
       "         ...,\n",
       "         [173, 184, 182],\n",
       "         [172, 183, 181],\n",
       "         [173, 186, 184]],\n",
       " \n",
       "        [[ 35,  50,  46],\n",
       "         [ 33,  48,  44],\n",
       "         [ 32,  46,  42],\n",
       "         ...,\n",
       "         [175, 186, 184],\n",
       "         [173, 184, 182],\n",
       "         [174, 187, 185]],\n",
       " \n",
       "        [[ 36,  52,  45],\n",
       "         [ 34,  50,  43],\n",
       "         [ 33,  47,  43],\n",
       "         ...,\n",
       "         [177, 188, 186],\n",
       "         [175, 186, 184],\n",
       "         [175, 188, 186]]], dtype=uint8)\n",
       " orig_shape: (3264, 1441)\n",
       " path: 'c:\\\\Users\\\\PC\\\\Desktop\\\\test\\\\Elephant_House_Fridge_Rating\\\\research\\\\..\\\\data\\\\rated_1.jpg'\n",
       " probs: None\n",
       " save_dir: None\n",
       " speed: {'preprocess': 3.000974655151367, 'inference': 647.5987434387207, 'postprocess': 91.94326400756836}]"
      ]
     },
     "execution_count": 46,
     "metadata": {},
     "output_type": "execute_result"
    }
   ],
   "source": [
    "results"
   ]
  },
  {
   "cell_type": "code",
   "execution_count": null,
   "metadata": {},
   "outputs": [],
   "source": []
  }
 ],
 "metadata": {
  "kernelspec": {
   "display_name": ".venv",
   "language": "python",
   "name": "python3"
  },
  "language_info": {
   "codemirror_mode": {
    "name": "ipython",
    "version": 3
   },
   "file_extension": ".py",
   "mimetype": "text/x-python",
   "name": "python",
   "nbconvert_exporter": "python",
   "pygments_lexer": "ipython3",
   "version": "3.11.5"
  }
 },
 "nbformat": 4,
 "nbformat_minor": 2
}
