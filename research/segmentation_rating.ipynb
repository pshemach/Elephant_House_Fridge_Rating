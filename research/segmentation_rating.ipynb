{
 "cells": [
  {
   "cell_type": "code",
   "execution_count": 1,
   "metadata": {},
   "outputs": [],
   "source": [
    "from ultralytics import YOLO"
   ]
  },
  {
   "cell_type": "code",
   "execution_count": 3,
   "metadata": {},
   "outputs": [],
   "source": [
    "model = YOLO('my_model_2.pt')"
   ]
  },
  {
   "cell_type": "code",
   "execution_count": 37,
   "metadata": {},
   "outputs": [
    {
     "name": "stderr",
     "output_type": "stream",
     "text": [
      "\n",
      "image 1/1 c:\\Users\\PC\\Desktop\\test\\Elephant_House_Fridge_Rating\\research\\..\\data\\rated_1.jpg: 640x288 33 elephant-products, 1 fridge, 647.6ms\n",
      "Speed: 3.0ms preprocess, 647.6ms inference, 91.9ms postprocess per image at shape (1, 3, 640, 288)\n"
     ]
    }
   ],
   "source": [
    "results = model.predict('../data/rated_1.jpg')"
   ]
  },
  {
   "cell_type": "code",
   "execution_count": 38,
   "metadata": {},
   "outputs": [],
   "source": [
    "mask = results[0].masks"
   ]
  },
  {
   "cell_type": "code",
   "execution_count": 40,
   "metadata": {},
   "outputs": [],
   "source": [
    "detected_classes = []\n",
    "for result in results:\n",
    "    # Check if there are any detected boxes\n",
    "    if result.boxes is not None:\n",
    "        for box in result.boxes:\n",
    "            # Get the class index\n",
    "            class_idx = int(box.cls)\n",
    "            # Map the class index to the class name\n",
    "            class_name = result.names[class_idx]\n",
    "            detected_classes.append(class_name)"
   ]
  },
  {
   "cell_type": "code",
   "execution_count": 45,
   "metadata": {},
   "outputs": [
    {
     "data": {
      "text/plain": [
       "{'elephant-product', 'fridge'}"
      ]
     },
     "execution_count": 45,
     "metadata": {},
     "output_type": "execute_result"
    }
   ],
   "source": [
    "set(detected_classes)"
   ]
  },
  {
   "cell_type": "code",
   "execution_count": null,
   "metadata": {},
   "outputs": [],
   "source": [
    "|"
   ]
  }
 ],
 "metadata": {
  "kernelspec": {
   "display_name": ".venv",
   "language": "python",
   "name": "python3"
  },
  "language_info": {
   "codemirror_mode": {
    "name": "ipython",
    "version": 3
   },
   "file_extension": ".py",
   "mimetype": "text/x-python",
   "name": "python",
   "nbconvert_exporter": "python",
   "pygments_lexer": "ipython3",
   "version": "3.11.5"
  }
 },
 "nbformat": 4,
 "nbformat_minor": 2
}
