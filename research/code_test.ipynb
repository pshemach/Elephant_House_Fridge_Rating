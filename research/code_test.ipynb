{
 "cells": [
  {
   "cell_type": "code",
   "execution_count": 1,
   "metadata": {},
   "outputs": [],
   "source": [
    "from tempfile import TemporaryDirectory\n",
    "import os\n",
    "\n",
    "\n",
    "def process_with_temp_folder(root_dir, process_function, *args, **kwargs):\n",
    "    \"\"\"\n",
    "    Creates a temporary directory, executes a given function with the directory,\n",
    "    and automatically cleans up the directory after use.\n",
    "\n",
    "    Parameters:\n",
    "        root_dir (str): The root directory where the temporary directory will be created.\n",
    "        process_function (callable): The function to execute, which will receive\n",
    "                                     the temporary directory path as its first argument.\n",
    "        *args, **kwargs: Additional arguments to pass to the process_function.\n",
    "\n",
    "    Returns:\n",
    "        The result of the process_function.\n",
    "    \"\"\"\n",
    "    with TemporaryDirectory(dir=root_dir) as temp_dir:\n",
    "        # Execute the process_function with temp_dir as the first argument\n",
    "        result = process_function(temp_dir, *args, **kwargs)\n",
    "        # temp_dir and its contents are automatically deleted here\n",
    "    return result"
   ]
  },
  {
   "cell_type": "code",
   "execution_count": 13,
   "metadata": {},
   "outputs": [
    {
     "name": "stdout",
     "output_type": "stream",
     "text": [
      "Processed Content: Hello, World!\n"
     ]
    }
   ],
   "source": [
    "def save_and_process_files(temp_dir, file_content, filename):\n",
    "    # Save a file to the temporary directory\n",
    "    file_path = os.path.join(temp_dir, filename)\n",
    "    with open(file_path, \"w\") as f:\n",
    "        f.write(file_content)\n",
    "\n",
    "    # Process the file (example: read content back)\n",
    "    with open(file_path, \"r\") as f:\n",
    "        content = f.read()\n",
    "\n",
    "    # Return some result from processing\n",
    "    return content\n",
    "\n",
    "\n",
    "# Call process_with_temp_folder and pass the save_and_process_files function\n",
    "result = process_with_temp_folder(\n",
    "    \"../data\", save_and_process_files, \"Hello, World!\", \"example.txt\"\n",
    ")\n",
    "print(\"Processed Content:\", result)"
   ]
  },
  {
   "cell_type": "code",
   "execution_count": null,
   "metadata": {},
   "outputs": [],
   "source": [
    "import tempfile"
   ]
  },
  {
   "cell_type": "code",
   "execution_count": 14,
   "metadata": {},
   "outputs": [],
   "source": [
    "f = tempfile.TemporaryDirectory(dir=\"../data\")"
   ]
  },
  {
   "cell_type": "code",
   "execution_count": 15,
   "metadata": {},
   "outputs": [
    {
     "data": {
      "text/plain": [
       "<TemporaryDirectory '../data\\\\tmpvb5tpqqk'>"
      ]
     },
     "execution_count": 15,
     "metadata": {},
     "output_type": "execute_result"
    }
   ],
   "source": [
    "f"
   ]
  },
  {
   "cell_type": "code",
   "execution_count": 24,
   "metadata": {},
   "outputs": [],
   "source": [
    "import os\n",
    "import shutil\n",
    "import tempfile\n",
    "import time"
   ]
  },
  {
   "cell_type": "code",
   "execution_count": 25,
   "metadata": {},
   "outputs": [],
   "source": [
    "# Track previously created directories with their creation times\n",
    "previous_temp_dirs = []\n",
    "\n",
    "\n",
    "def create_temp_directory_with_age_limit(root_dir, max_age=300):\n",
    "    \"\"\"\n",
    "    Deletes any temporary directories older than the specified max_age,\n",
    "    then creates a new temporary directory.\n",
    "\n",
    "    Parameters:\n",
    "        root_dir (str): Path to the root directory where the temporary directory will be created.\n",
    "        max_age (int): Maximum age in seconds. Directories older than this will be deleted.\n",
    "\n",
    "    Returns:\n",
    "        str: Path to the newly created temporary directory.\n",
    "    \"\"\"\n",
    "    global previous_temp_dirs\n",
    "    current_time = time.time()\n",
    "\n",
    "    # Delete previous directories older than max_age\n",
    "    for temp_dir, creation_time in previous_temp_dirs[:]:\n",
    "        if current_time - creation_time > max_age:\n",
    "            if os.path.exists(temp_dir):\n",
    "                shutil.rmtree(temp_dir, ignore_errors=True)\n",
    "                print(f\"Deleted old temporary directory: {temp_dir}\")\n",
    "            previous_temp_dirs.remove((temp_dir, creation_time))\n",
    "\n",
    "    # Create a new temporary directory and store it with the current time\n",
    "    new_temp_dir = tempfile.mkdtemp(dir=root_dir)\n",
    "    previous_temp_dirs.append((new_temp_dir, current_time))\n",
    "    print(f\"New temporary directory created at: {new_temp_dir}\")\n",
    "\n",
    "    return new_temp_dir"
   ]
  },
  {
   "cell_type": "code",
   "execution_count": 34,
   "metadata": {},
   "outputs": [
    {
     "name": "stdout",
     "output_type": "stream",
     "text": [
      "Deleted old temporary directory: ../data\\tmptscpnbck\n",
      "Deleted old temporary directory: ../data\\tmpyetgqh5w\n",
      "Deleted old temporary directory: ../data\\tmp090t403f\n",
      "New temporary directory created at: ../data\\tmp9q4o84bl\n",
      "Temporary directory path: ../data\\tmp9q4o84bl\n"
     ]
    }
   ],
   "source": [
    "temp_dir1 = create_temp_directory_with_age_limit(\"../data\", max_age=30)\n",
    "print(f\"Temporary directory path: {temp_dir1}\")"
   ]
  },
  {
   "cell_type": "code",
   "execution_count": 42,
   "metadata": {},
   "outputs": [
    {
     "data": {
      "text/plain": [
       "['../data', 'tmp9q4o84bl']"
      ]
     },
     "execution_count": 42,
     "metadata": {},
     "output_type": "execute_result"
    }
   ],
   "source": [
    "temp_dir1.split('\\\\')"
   ]
  },
  {
   "cell_type": "code",
   "execution_count": null,
   "metadata": {},
   "outputs": [],
   "source": []
  }
 ],
 "metadata": {
  "kernelspec": {
   "display_name": ".venv",
   "language": "python",
   "name": "python3"
  },
  "language_info": {
   "codemirror_mode": {
    "name": "ipython",
    "version": 3
   },
   "file_extension": ".py",
   "mimetype": "text/x-python",
   "name": "python",
   "nbconvert_exporter": "python",
   "pygments_lexer": "ipython3",
   "version": "3.11.5"
  }
 },
 "nbformat": 4,
 "nbformat_minor": 2
}
